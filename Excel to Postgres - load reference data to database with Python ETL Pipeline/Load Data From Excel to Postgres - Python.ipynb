{
 "cells": [
  {
   "cell_type": "code",
   "execution_count": 1,
   "id": "04a89682",
   "metadata": {},
   "outputs": [],
   "source": [
    "from sqlalchemy import create_engine\n",
    "import pyodbc\n",
    "import pandas as pd\n",
    "import os\n"
   ]
  },
  {
   "cell_type": "code",
   "execution_count": 2,
   "id": "bfac7bf7",
   "metadata": {},
   "outputs": [],
   "source": [
    "pwd = os.environ['PGPASS']\n",
    "uid = os.environ['PGUID']\n",
    "server = \"localhost\"\n",
    "db = \"AdventureWorks\"\n",
    "port = \"5432\"\n",
    "dir = r'C:\\Users\\Muhammad Syakeer\\OneDrive - Soft Space Sdn Bhd\\Documents\\Jupyter Notebook\\Excel to Postgres - load reference data to database with Python ETL Pipeline'"
   ]
  },
  {
   "cell_type": "code",
   "execution_count": 3,
   "id": "92cb8cba",
   "metadata": {},
   "outputs": [],
   "source": [
    "def extract():\n",
    "    try:\n",
    "        # starting directory\n",
    "        directory = dir\n",
    "        # iterate over files in the directory\n",
    "        for filename in os.listdir(directory):\n",
    "            #get filename without ext\n",
    "            file_wo_ext = os.path.splitext(filename)[0]\n",
    "            # only process excel files\n",
    "            if filename.endswith(\".xlsx\"):\n",
    "                f = os.path.join(directory, filename)\n",
    "                # checking if it is a file\n",
    "                if os.path.isfile(f):\n",
    "                    df = pd.read_excel(f)\n",
    "                    # call to load\n",
    "                    load(df, file_wo_ext)\n",
    "    except Exception as e:\n",
    "        print(\"Data extract error: \" + str(e))"
   ]
  },
  {
   "cell_type": "code",
   "execution_count": 4,
   "id": "aebb28c2",
   "metadata": {},
   "outputs": [],
   "source": [
    "#load data to postgres\n",
    "def load(df, tbl):\n",
    "    try:\n",
    "        rows_imported = 0\n",
    "        engine = create_engine(f'postgresql://{uid}:{pwd}@{server}:{port}/{db}')\n",
    "        print(f'importing rows {rows_imported} to {rows_imported + len(df)}... ')\n",
    "        # save df to postgres\n",
    "        df.to_sql(f\"stg_{tbl}\", engine, if_exists='replace', index=False)\n",
    "        rows_imported += len(df)\n",
    "        # add elapsed time to final print out\n",
    "        print(\"Data imported successful\")\n",
    "    except Exception as e:\n",
    "        print(\"Data load error: \" + str(e))"
   ]
  },
  {
   "cell_type": "code",
   "execution_count": 7,
   "id": "09df27f7",
   "metadata": {},
   "outputs": [
    {
     "name": "stdout",
     "output_type": "stream",
     "text": [
      "importing rows 0 to 35... \n",
      "Data imported successful\n",
      "importing rows 0 to 16... \n",
      "Data imported successful\n"
     ]
    }
   ],
   "source": [
    "try:\n",
    "    #call extract function\n",
    "    df = extract()\n",
    "except Exception as e:\n",
    "    print(\"Error while extracting data: \" + str(e))"
   ]
  }
 ],
 "metadata": {
  "kernelspec": {
   "display_name": "Python 3 (ipykernel)",
   "language": "python",
   "name": "python3"
  },
  "language_info": {
   "codemirror_mode": {
    "name": "ipython",
    "version": 3
   },
   "file_extension": ".py",
   "mimetype": "text/x-python",
   "name": "python",
   "nbconvert_exporter": "python",
   "pygments_lexer": "ipython3",
   "version": "3.11.3"
  }
 },
 "nbformat": 4,
 "nbformat_minor": 5
}
